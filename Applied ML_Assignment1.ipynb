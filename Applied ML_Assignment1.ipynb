{
 "cells": [
  {
   "cell_type": "markdown",
   "id": "9296a6fe",
   "metadata": {},
   "source": [
    "# Assignment 1: MNIST Handwriting Classification\n",
    "   ##### Name: Ruchita Nagare | Andrew ID: rnagare"
   ]
  },
  {
   "cell_type": "markdown",
   "id": "57b29313",
   "metadata": {},
   "source": [
    "## Reading and vectorizing the data"
   ]
  },
  {
   "cell_type": "code",
   "execution_count": 2,
   "id": "216538b5",
   "metadata": {},
   "outputs": [
    {
     "data": {
      "text/plain": [
       "(60000, 784)"
      ]
     },
     "execution_count": 2,
     "metadata": {},
     "output_type": "execute_result"
    }
   ],
   "source": [
    "import gzip\n",
    "import numpy as np\n",
    "import matplotlib.pyplot as plt\n",
    "%matplotlib inline\n",
    "\n",
    "with gzip.open('Dataset/train-images-idx3-ubyte.gz','r') as f:\n",
    "    f.read(16)\n",
    "    buf = f.read(28 * 28 * 60000)\n",
    "    X_train = np.frombuffer(buf, dtype=np.uint8).astype(np.float32)\n",
    "X_train = X_train.reshape(60000, 28 * 28)\n",
    "X_train.shape"
   ]
  },
  {
   "cell_type": "code",
   "execution_count": 3,
   "id": "99214657",
   "metadata": {},
   "outputs": [
    {
     "data": {
      "image/png": "[encoded data removed]",
      "text/plain": [
       "<Figure size 432x288 with 1 Axes>"
      ]
     },
     "metadata": {
      "needs_background": "light"
     },
     "output_type": "display_data"
    }
   ],
   "source": [
    "plt.imshow(X_train[0].reshape((28,28)), cmap = 'gray')\n",
    "plt.show()"
   ]
  },
  {
   "cell_type": "code",
   "execution_count": 4,
   "id": "b3d08bb3",
   "metadata": {},
   "outputs": [
    {
     "data": {
      "text/plain": [
       "(60000,)"
      ]
     },
     "execution_count": 4,
     "metadata": {},
     "output_type": "execute_result"
    }
   ],
   "source": [
    "with gzip.open('Dataset/train-labels-idx1-ubyte.gz','r') as f:\n",
    "    f.read(8)\n",
    "    buf = f.read(60000)\n",
    "    Y_train = np.frombuffer(buf, dtype=np.uint8).astype(np.float32)\n",
    "Y_train = Y_train.reshape(60000)\n",
    "Y_train.shape"
   ]
  },
  {
   "cell_type": "code",
   "execution_count": 5,
   "id": "adacb54b",
   "metadata": {},
   "outputs": [
    {
     "data": {
      "text/plain": [
       "array([5., 0., 4., ..., 5., 6., 8.], dtype=float32)"
      ]
     },
     "execution_count": 5,
     "metadata": {},
     "output_type": "execute_result"
    }
   ],
   "source": [
    "Y_train\n"
   ]
  },
  {
   "cell_type": "code",
   "execution_count": 6,
   "id": "51994c99",
   "metadata": {},
   "outputs": [
    {
     "data": {
      "text/plain": [
       "array([[0., 0., 0., ..., 0., 0., 0.],\n",
       "       [0., 0., 0., ..., 0., 0., 0.],\n",
       "       [0., 0., 0., ..., 0., 0., 0.],\n",
       "       ...,\n",
       "       [0., 0., 0., ..., 0., 0., 0.],\n",
       "       [0., 0., 0., ..., 0., 0., 0.],\n",
       "       [0., 0., 0., ..., 0., 0., 0.]], dtype=float32)"
      ]
     },
     "execution_count": 6,
     "metadata": {},
     "output_type": "execute_result"
    }
   ],
   "source": [
    "X_train"
   ]
  },
  {
   "cell_type": "code",
   "execution_count": 7,
   "id": "2b854969",
   "metadata": {},
   "outputs": [
    {
     "data": {
      "text/plain": [
       "(10000, 784)"
      ]
     },
     "execution_count": 7,
     "metadata": {},
     "output_type": "execute_result"
    }
   ],
   "source": [
    "with gzip.open('Dataset/t10k-images-idx3-ubyte.gz','r') as f:\n",
    "    f.read(16)\n",
    "    buf = f.read(28 * 28 * 10000)\n",
    "    X_test = np.frombuffer(buf, dtype=np.uint8).astype(np.float32)\n",
    "X_test = X_test.reshape(10000, 28 * 28)\n",
    "X_test.shape"
   ]
  },
  {
   "cell_type": "code",
   "execution_count": 8,
   "id": "2076b2b2",
   "metadata": {},
   "outputs": [
    {
     "data": {
      "text/plain": [
       "(10000,)"
      ]
     },
     "execution_count": 8,
     "metadata": {},
     "output_type": "execute_result"
    }
   ],
   "source": [
    "with gzip.open('Dataset/t10k-labels-idx1-ubyte.gz','r') as f:\n",
    "    f.read(8)\n",
    "    buf = f.read(10000)\n",
    "    Y_test = np.frombuffer(buf, dtype=np.uint8).astype(np.float32)\n",
    "Y_test = Y_test.reshape(10000)\n",
    "Y_test.shape"
   ]
  },
  {
   "cell_type": "markdown",
   "id": "1a432238",
   "metadata": {},
   "source": [
    "## Naives Bayes Model"
   ]
  },
  {
   "cell_type": "code",
   "execution_count": 9,
   "id": "ad9e7846",
   "metadata": {},
   "outputs": [],
   "source": [
    "from sklearn.naive_bayes import MultinomialNB\n",
    "from sklearn.metrics import accuracy_score\n",
    "\n",
    "mnb = MultinomialNB()"
   ]
  },
  {
   "cell_type": "code",
   "execution_count": 10,
   "id": "8188f1d0",
   "metadata": {},
   "outputs": [
    {
     "name": "stdout",
     "output_type": "stream",
     "text": [
      "Wall time: 1.17 s\n"
     ]
    }
   ],
   "source": [
    "%%time \n",
    "clf_mnb = mnb.fit(X_train, Y_train)\n",
    "\n",
    "# Capturing the time required to train the model"
   ]
  },
  {
   "cell_type": "code",
   "execution_count": 11,
   "id": "58cd3dda",
   "metadata": {},
   "outputs": [],
   "source": [
    "Y_pred = clf_mnb.predict(X_test)"
   ]
  },
  {
   "cell_type": "markdown",
   "id": "dd2584af",
   "metadata": {},
   "source": [
    "###### Evaluating the model's performance"
   ]
  },
  {
   "cell_type": "code",
   "execution_count": 12,
   "id": "a2372359",
   "metadata": {},
   "outputs": [
    {
     "name": "stdout",
     "output_type": "stream",
     "text": [
      "AUC: 0.83650\n"
     ]
    }
   ],
   "source": [
    "# Accuracy score\n",
    "\n",
    "print('AUC: %0.5f' % accuracy_score(Y_test, Y_pred))"
   ]
  },
  {
   "cell_type": "code",
   "execution_count": 13,
   "id": "cbc6f087",
   "metadata": {},
   "outputs": [
    {
     "data": {
      "text/plain": [
       "0.8365"
      ]
     },
     "execution_count": 13,
     "metadata": {},
     "output_type": "execute_result"
    }
   ],
   "source": [
    "clf_mnb.score(X_test, Y_test)\n"
   ]
  },
  {
   "cell_type": "code",
   "execution_count": 14,
   "id": "bb87d9ec",
   "metadata": {},
   "outputs": [
    {
     "name": "stdout",
     "output_type": "stream",
     "text": [
      "              precision    recall  f1-score   support\n",
      "\n",
      "         0.0       0.92      0.93      0.93       980\n",
      "         1.0       0.91      0.93      0.92      1135\n",
      "         2.0       0.90      0.83      0.86      1032\n",
      "         3.0       0.80      0.84      0.82      1010\n",
      "         4.0       0.84      0.75      0.79       982\n",
      "         5.0       0.86      0.66      0.75       892\n",
      "         6.0       0.89      0.90      0.89       958\n",
      "         7.0       0.94      0.84      0.88      1028\n",
      "         8.0       0.66      0.80      0.72       974\n",
      "         9.0       0.71      0.86      0.78      1009\n",
      "\n",
      "    accuracy                           0.84     10000\n",
      "   macro avg       0.84      0.83      0.84     10000\n",
      "weighted avg       0.84      0.84      0.84     10000\n",
      "\n"
     ]
    }
   ],
   "source": [
    "# Classification Report\n",
    "\n",
    "from sklearn.metrics import classification_report\n",
    "predictions = clf_mnb.predict(X_test)\n",
    "print(classification_report(Y_test, predictions))"
   ]
  },
  {
   "cell_type": "code",
   "execution_count": 24,
   "id": "e99bfcd9",
   "metadata": {},
   "outputs": [],
   "source": [
    "# Defining a method to display predicted images with their labels\n",
    "\n",
    "def plot_images(images, label):\n",
    "    no_cols = min(5, len(images))\n",
    "    no_rows = len(images) // no_cols\n",
    "    fig = plt.figure(figsize = (8,8))\n",
    "    \n",
    "    for i in range(no_rows*no_cols):\n",
    "        sp = fig.add_subplot(no_rows, no_cols, i+1)\n",
    "        plt.axis(\"off\")\n",
    "        plt.imshow(images[i], cmap = plt.cm.gray)\n",
    "        sp.set_title(int((label[i])))\n",
    "    plt.show()"
   ]
  },
  {
   "cell_type": "code",
   "execution_count": 25,
   "id": "14d7f115",
   "metadata": {},
   "outputs": [
    {
     "data": {
      "image/png": "[encoded data removed]",
      "text/plain": [
       "<Figure size 576x576 with 15 Axes>"
      ]
     },
     "metadata": {
      "needs_background": "light"
     },
     "output_type": "display_data"
    }
   ],
   "source": [
    "# Plotting those images\n",
    "\n",
    "p = np.random.permutation(len(X_test))\n",
    "p = p[:15]\n",
    "plot_images(X_test[p].reshape(-1,28,28), predictions[p])\n",
    "\n",
    "\n",
    "# It can be noticed that there is an instance where the model wrongly predicts the actual number 9 as 4, 4 as 6, 2 as 1."
   ]
  },
  {
   "cell_type": "code",
   "execution_count": 17,
   "id": "83468117",
   "metadata": {},
   "outputs": [
    {
     "name": "stdout",
     "output_type": "stream",
     "text": [
      "[[ 912    0    2    6    1    8   14    1   36    0]\n",
      " [   0 1061    5    9    0    2    6    0   51    1]\n",
      " [  15   11  858   24   10    3   33   11   66    1]\n",
      " [   4   11   34  851    1   21    7   14   40   27]\n",
      " [   2    2    6    0  732    0   25    1   38  176]\n",
      " [  23   11    6  107   18  590   17    6   78   36]\n",
      " [  17   13   17    1    7   25  860    0   18    0]\n",
      " [   1   21   11    5   19    0    1  861   40   69]\n",
      " [   6   26   13   54   14   27    8    9  777   40]\n",
      " [   6    7    3   10   66   10    0   17   27  863]]\n"
     ]
    }
   ],
   "source": [
    "# Confusion Matrix\n",
    "\n",
    "from sklearn.metrics import confusion_matrix\n",
    "\n",
    "conf_matrix = confusion_matrix(Y_test, Y_pred)\n",
    "print(conf_matrix)"
   ]
  },
  {
   "cell_type": "code",
   "execution_count": 18,
   "id": "be9acb44",
   "metadata": {},
   "outputs": [],
   "source": [
    "# Calculating the accuracy using the confusion matrix\n",
    "\n",
    "def diagonal_sum(conf_matrix):\n",
    "    sum = 0\n",
    "    for i in range(10):\n",
    "        for j in range(10):\n",
    "            if(i==j):\n",
    "                sum += conf_matrix[i,j]\n",
    "    return sum"
   ]
  },
  {
   "cell_type": "code",
   "execution_count": 19,
   "id": "22e8970a",
   "metadata": {},
   "outputs": [
    {
     "name": "stdout",
     "output_type": "stream",
     "text": [
      "8365\n",
      "Accuracy % :  0.8365\n"
     ]
    }
   ],
   "source": [
    "sum = diagonal_sum(conf_matrix)\n",
    "print(sum)\n",
    "print(\"Accuracy % : \", sum/10000)"
   ]
  },
  {
   "cell_type": "code",
   "execution_count": 20,
   "id": "5de6e21e",
   "metadata": {},
   "outputs": [
    {
     "data": {
      "image/png": "[encoded data removed]",
      "text/plain": [
       "<Figure size 432x288 with 1 Axes>"
      ]
     },
     "metadata": {
      "needs_background": "light"
     },
     "output_type": "display_data"
    }
   ],
   "source": [
    "# Visualizing the confusion matrix\n",
    "\n",
    "plt.imshow(conf_matrix, cmap = 'inferno', interpolation = 'nearest')\n",
    "plt.xlabel('Predictions')\n",
    "plt.ylabel('Actual values')\n",
    "plt.show()"
   ]
  },
  {
   "cell_type": "markdown",
   "id": "e23f6683",
   "metadata": {},
   "source": [
    "###### Saving the model to nb.model"
   ]
  },
  {
   "cell_type": "code",
   "execution_count": 23,
   "id": "386229a6",
   "metadata": {},
   "outputs": [],
   "source": [
    "import pickle\n",
    "\n",
    "pickle.dump(clf_mnb, open('nb.model', 'wb'))"
   ]
  },
  {
   "cell_type": "markdown",
   "id": "14e05c23",
   "metadata": {},
   "source": [
    "## Logistic Regression"
   ]
  },
  {
   "cell_type": "code",
   "execution_count": 26,
   "id": "1cd5083d",
   "metadata": {},
   "outputs": [],
   "source": [
    "# Scaling the input data around a standard mean using StandardScalar\n",
    "\n",
    "from sklearn.preprocessing import StandardScaler\n",
    "\n",
    "scaler = StandardScaler()\n",
    "X_train = scaler.fit_transform(X_train)\n",
    "X_test = scaler.transform(X_test)"
   ]
  },
  {
   "cell_type": "code",
   "execution_count": 27,
   "id": "9f88ab4b",
   "metadata": {},
   "outputs": [],
   "source": [
    "from sklearn.linear_model import LogisticRegression\n",
    "\n",
    "lr = LogisticRegression(fit_intercept=True,\n",
    "                        multi_class='multinomial',\n",
    "                        penalty='l2', \n",
    "                        solver='saga',\n",
    "                        tol = 0.01,\n",
    "                        max_iter=50,\n",
    "                        random_state = 0,\n",
    "                        class_weight = 'balanced')"
   ]
  },
  {
   "cell_type": "code",
   "execution_count": 28,
   "id": "67ce029a",
   "metadata": {},
   "outputs": [
    {
     "name": "stdout",
     "output_type": "stream",
     "text": [
      "Wall time: 1min 17s\n"
     ]
    },
    {
     "data": {
      "text/plain": [
       "LogisticRegression(class_weight='balanced', max_iter=50,\n",
       "                   multi_class='multinomial', random_state=0, solver='saga',\n",
       "                   tol=0.01)"
      ]
     },
     "execution_count": 28,
     "metadata": {},
     "output_type": "execute_result"
    }
   ],
   "source": [
    "%%time\n",
    "lr.fit(X_train, Y_train)\n",
    "\n",
    "# Capturing the time required to train the model"
   ]
  },
  {
   "cell_type": "code",
   "execution_count": 29,
   "id": "5a5d4c1a",
   "metadata": {},
   "outputs": [],
   "source": [
    "Y_pred = lr.predict(X_test)"
   ]
  },
  {
   "cell_type": "markdown",
   "id": "0e3cf770",
   "metadata": {},
   "source": [
    "###### Evaluating the model's performance"
   ]
  },
  {
   "cell_type": "code",
   "execution_count": 30,
   "id": "c4031d21",
   "metadata": {},
   "outputs": [
    {
     "data": {
      "text/plain": [
       "0.9158666666666667"
      ]
     },
     "execution_count": 30,
     "metadata": {},
     "output_type": "execute_result"
    }
   ],
   "source": [
    "lr.score(X_train, Y_train)"
   ]
  },
  {
   "cell_type": "code",
   "execution_count": 31,
   "id": "47cbbe64",
   "metadata": {},
   "outputs": [
    {
     "name": "stdout",
     "output_type": "stream",
     "text": [
      "AUC: 0.91560\n"
     ]
    }
   ],
   "source": [
    "# Accuracy score\n",
    "\n",
    "print('AUC: %0.5f' % accuracy_score(Y_test, Y_pred))"
   ]
  },
  {
   "cell_type": "code",
   "execution_count": 32,
   "id": "9edb3bf9",
   "metadata": {},
   "outputs": [
    {
     "data": {
      "text/plain": [
       "0.9156"
      ]
     },
     "execution_count": 32,
     "metadata": {},
     "output_type": "execute_result"
    }
   ],
   "source": [
    "lr.score(X_test, Y_test)"
   ]
  },
  {
   "cell_type": "code",
   "execution_count": 33,
   "id": "ef9bd220",
   "metadata": {},
   "outputs": [
    {
     "name": "stdout",
     "output_type": "stream",
     "text": [
      "              precision    recall  f1-score   support\n",
      "\n",
      "         0.0       0.94      0.98      0.96       980\n",
      "         1.0       0.94      0.97      0.96      1135\n",
      "         2.0       0.93      0.88      0.91      1032\n",
      "         3.0       0.91      0.90      0.91      1010\n",
      "         4.0       0.90      0.94      0.92       982\n",
      "         5.0       0.89      0.87      0.88       892\n",
      "         6.0       0.93      0.95      0.94       958\n",
      "         7.0       0.92      0.91      0.91      1028\n",
      "         8.0       0.88      0.86      0.87       974\n",
      "         9.0       0.90      0.89      0.89      1009\n",
      "\n",
      "    accuracy                           0.92     10000\n",
      "   macro avg       0.91      0.91      0.91     10000\n",
      "weighted avg       0.92      0.92      0.92     10000\n",
      "\n"
     ]
    }
   ],
   "source": [
    "# Classification report\n",
    "\n",
    "predictions = lr.predict(X_test)\n",
    "print(classification_report(Y_test, predictions))"
   ]
  },
  {
   "cell_type": "code",
   "execution_count": 36,
   "id": "24b4cf7b",
   "metadata": {},
   "outputs": [
    {
     "data": {
      "image/png": "[encoded data removed]",
      "text/plain": [
       "<Figure size 576x576 with 15 Axes>"
      ]
     },
     "metadata": {
      "needs_background": "light"
     },
     "output_type": "display_data"
    }
   ],
   "source": [
    "# Plotting the predicted images\n",
    "\n",
    "p = np.random.permutation(len(X_test))\n",
    "p = p[:15]\n",
    "plot_images(X_test[p].reshape(-1,28,28), predictions[p])\n",
    "\n",
    "# It can be observed that there is an instance where the model wrongly predicts the actual number 6 as 2, 9 as 3"
   ]
  },
  {
   "cell_type": "code",
   "execution_count": 37,
   "id": "e3d9d21a",
   "metadata": {},
   "outputs": [
    {
     "name": "stdout",
     "output_type": "stream",
     "text": [
      "[[ 959    0    0    1    0    7    8    2    3    0]\n",
      " [   0 1104    2    2    1    3    4    0   19    0]\n",
      " [  10   12  910   16   12    3   13   16   35    5]\n",
      " [   4    2   19  909    4   28    3   15   18    8]\n",
      " [   2    5    5    0  922    1   12    2    4   29]\n",
      " [   9    5    2   29   11  776   17   10   25    8]\n",
      " [  13    3    5    1    7   13  912    2    2    0]\n",
      " [   3   16   23    5    9    0    1  936    0   35]\n",
      " [  11   15    8   19   16   32   11   13  834   15]\n",
      " [  13    8    1   13   44    8    0   22    6  894]]\n"
     ]
    }
   ],
   "source": [
    "# Confusion Matrix\n",
    "\n",
    "conf_matrix = confusion_matrix(Y_test, Y_pred)\n",
    "print(conf_matrix)"
   ]
  },
  {
   "cell_type": "code",
   "execution_count": 38,
   "id": "3063090e",
   "metadata": {},
   "outputs": [
    {
     "name": "stdout",
     "output_type": "stream",
     "text": [
      "9156\n",
      "Accuracy % :  0.9156\n"
     ]
    }
   ],
   "source": [
    "# Calculating the accuracy using the confusion matrix\n",
    "\n",
    "sum = diagonal_sum(conf_matrix)\n",
    "print(sum)\n",
    "print(\"Accuracy % : \", sum/10000)"
   ]
  },
  {
   "cell_type": "code",
   "execution_count": 39,
   "id": "e440366d",
   "metadata": {},
   "outputs": [
    {
     "data": {
      "image/png": "[encoded data removed]",
      "text/plain": [
       "<Figure size 432x288 with 1 Axes>"
      ]
     },
     "metadata": {
      "needs_background": "light"
     },
     "output_type": "display_data"
    }
   ],
   "source": [
    "# Visualizing the confusion matrix\n",
    "\n",
    "plt.imshow(conf_matrix, cmap = 'inferno', interpolation = 'nearest')\n",
    "plt.xlabel('Predictions')\n",
    "plt.ylabel('Actual values')\n",
    "plt.show()"
   ]
  },
  {
   "cell_type": "markdown",
   "id": "3691e526",
   "metadata": {},
   "source": [
    "###### Saving the model to lr.model"
   ]
  },
  {
   "cell_type": "code",
   "execution_count": 40,
   "id": "185fbca5",
   "metadata": {},
   "outputs": [],
   "source": [
    "import pickle\n",
    "\n",
    "pickle.dump(lr, open('lr.model', 'wb'))"
   ]
  }
 ],
 "metadata": {
  "kernelspec": {
   "display_name": "Python 3 (ipykernel)",
   "language": "python",
   "name": "python3"
  },
  "language_info": {
   "codemirror_mode": {
    "name": "ipython",
    "version": 3
   },
   "file_extension": ".py",
   "mimetype": "text/x-python",
   "name": "python",
   "nbconvert_exporter": "python",
   "pygments_lexer": "ipython3",
   "version": "3.9.7"
  }
 },
 "nbformat": 4,
 "nbformat_minor": 5
}
